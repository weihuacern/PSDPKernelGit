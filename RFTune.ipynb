{
 "cells": [
  {
   "cell_type": "code",
   "execution_count": 88,
   "metadata": {
    "collapsed": true
   },
   "outputs": [],
   "source": [
    "import numpy as np\n",
    "import pandas as pd\n",
    "import json\n",
    "\n",
    "from sklearn.preprocessing import Imputer\n",
    "from sklearn.preprocessing import StandardScaler\n",
    "\n",
    "# This class is for the preprocessing, take csv path as input, and aim to return a pandas data frame for trainning\n",
    "class PreProcessing:\n",
    "\n",
    "  # The constructor takes a pandas dataframe as input and save it to self.df\n",
    "  def __init__(self, csvpath):\n",
    "    self.df = pd.read_csv(csvpath)\n",
    "    if \"train\" in csvpath:\n",
    "      self.dftype = 1\n",
    "    elif \"test\" in csvpath:\n",
    "      self.dftype = 2\n",
    "    else:\n",
    "      self.dftype = -1\n",
    "\n",
    "  # This method have deal with missing data before merge or drop\n",
    "  def MissingData(self):\n",
    "    self.df = self.df.replace(-1, np.NaN) #first, replace -1 to NaN\n",
    "    #print (self.df.columns[self.df.isnull().any()])\n",
    "    '''\n",
    "    'ps_ind_02_cat', 'ps_ind_04_cat', 'ps_ind_05_cat', \n",
    "    'ps_reg_03',\n",
    "    'ps_car_01_cat', 'ps_car_02_cat', 'ps_car_03_cat', 'ps_car_05_cat', 'ps_car_07_cat', 'ps_car_09_cat', \n",
    "    'ps_car_11', 'ps_car_12', 'ps_car_14'\n",
    "    '''\n",
    "    mean_imp = Imputer(missing_values='NaN', strategy='mean', axis=0)\n",
    "    mdan_imp = Imputer(missing_values='NaN', strategy='median', axis=0)\n",
    "    mfrq_imp = Imputer(missing_values='NaN', strategy='most_frequent', axis=0)\n",
    "\n",
    "    self.df[\"ps_ind_02_cat\"].fillna(-1, inplace=True)\n",
    "    self.df[\"ps_ind_04_cat\"].fillna(-1, inplace=True)\n",
    "    self.df[\"ps_ind_05_cat\"].fillna(-1, inplace=True)\n",
    "    #self.df[\"ps_reg_03\"].fillna(self.df[\"ps_reg_03\"].median(), inplace=True)\n",
    "    #self.df['ps_reg_03'] = mean_imp.fit_transform(self.df[['ps_reg_03']]).ravel()\n",
    "    self.df[\"ps_reg_03\"].fillna(2 * self.df['ps_reg_03'].value_counts().idxmax(), inplace=True)\n",
    "    self.df[\"ps_car_01_cat\"].fillna(-1, inplace=True)\n",
    "    self.df[\"ps_car_02_cat\"].fillna(-1, inplace=True)\n",
    "    #self.df[\"ps_car_03_cat\"].fillna(self.df[\"ps_car_03_cat\"].value_counts().idxmax(), inplace=True) # top 1 missing variable, drop\n",
    "    #self.df[\"ps_car_05_cat\"].fillna(self.df[\"ps_car_05_cat\"].value_counts().idxmax(), inplace=True) # top 2 missing variable, drop\n",
    "    self.df[\"ps_car_03_cat\"].fillna(-1, inplace=True) # top 1 missing variable\n",
    "    self.df[\"ps_car_05_cat\"].fillna(-1, inplace=True) # top 2 missing variable\n",
    "    self.df[\"ps_car_07_cat\"].fillna(-1, inplace=True)\n",
    "    self.df[\"ps_car_09_cat\"].fillna(-1, inplace=True)\n",
    "    #self.df[\"ps_car_11\"].fillna(self.df[\"ps_car_11\"].value_counts().idxmax(), inplace=True)\n",
    "    self.df[\"ps_car_11\"].fillna(-1, inplace=True) # this is catually a cat variable, inverted with ps_car_11_cat\n",
    "    #self.df['ps_car_11'] = mfrq_imp.fit_transform(self.df[['ps_car_11']]).ravel()\n",
    "    #self.df[\"ps_car_12\"].fillna(self.df[\"ps_car_12\"].median(), inplace=True)\n",
    "    #self.df['ps_car_12'] = mean_imp.fit_transform(self.df[['ps_car_12']]).ravel()\n",
    "    self.df['ps_car_12'].fillna(2 * self.df['ps_car_12'].value_counts().idxmax(), inplace=True)\n",
    "    #self.df[\"ps_car_14\"].fillna(self.df[\"ps_car_14\"].median(), inplace=True)\n",
    "    #self.df['ps_car_14'] = mean_imp.fit_transform(self.df[['ps_car_14']]).ravel()\n",
    "    self.df[\"ps_car_14\"].fillna(2 * self.df['ps_car_14'].value_counts().idxmax(), inplace=True)\n",
    "\n",
    "    #self.df[\"\"].fillna(self.df[\"\"].mean(), inplace=True)\n",
    "    #self.df[\"\"].fillna(self.df[\"\"].median(), inplace=True)\n",
    "    #self.df[\"\"].fillna(self.df[\"\"].value_counts().idxmax(), inplace=True)\n",
    "    return\n",
    "\n",
    "  # This method drop the original catagory labels and replaced with one hot labels\n",
    "  def OneHotReplacement(self):\n",
    "\n",
    "    #onehot_cols = ['ps_ind_02_cat', 'ps_ind_04_cat', 'ps_ind_05_cat', 'ps_car_01_cat', 'ps_car_02_cat', 'ps_car_03_cat', 'ps_car_04_cat', 'ps_car_05_cat', 'ps_car_07_cat', 'ps_car_09_cat', 'ps_car_10_cat', 'ps_car_11']\n",
    "    onehot_cols = ['ps_ind_02_cat', 'ps_ind_04_cat', 'ps_ind_05_cat', 'ps_car_01_cat', 'ps_car_02_cat', 'ps_car_03_cat', 'ps_car_05_cat', 'ps_car_07_cat', 'ps_car_09_cat', 'ps_car_11']\n",
    "\n",
    "    self.df = pd.get_dummies(self.df, columns=onehot_cols, drop_first=True)\n",
    "    #onehot = pd.get_dummies(self.df['ps_ind_02_cat'])\n",
    "    #self.df.drop(['ps_ind_02_cat'], axis = 1, inplace = True)\n",
    "    #self.df = self.df.join(onehot)\n",
    "    return\n",
    "\n",
    "  # This method drop or merge variables in dataframe accroding to corr map\n",
    "  def CorrMergeDrop(self):\n",
    "    #self.df['ps_ind_06070809_bin'] = self.df.apply(\n",
    "    #  lambda x: 1 if x['ps_ind_06_bin'] == 1 \n",
    "    #              else \n",
    "    #              (2 if x['ps_ind_07_bin'] == 1 \n",
    "    #                 else \n",
    "    #                 ( 3 if x['ps_ind_08_bin'] == 1 \n",
    "    #                     else \n",
    "    #                     (4 if x['ps_ind_09_bin'] == 1 else 5)\n",
    "    #                 )\n",
    "    #              ), axis = 1)\n",
    "    #self.df.drop(['ps_ind_06_bin', 'ps_ind_07_bin', 'ps_ind_08_bin', 'ps_ind_09_bin'], axis = 1, inplace = True)\n",
    "\n",
    "    #self.df['ps_ind_161718_bin'] = self.df.apply(lambda x: 1 if x['ps_ind_16_bin'] == 1 \n",
    "    #                                                         else (2 if x['ps_ind_17_bin'] == 1 else 3), axis = 1)\n",
    "    #self.df.drop(['ps_ind_16_bin', 'ps_ind_17_bin', 'ps_ind_18_bin'], axis = 1, inplace = True)\n",
    " \n",
    "    # drop this variable from preprocessing study, top 3 missing data, and not important at all\n",
    "    #self.df.drop(['ps_car_03_cat'], axis = 1, inplace = True)\n",
    "    #self.df.drop(['ps_car_05_cat'], axis = 1, inplace = True)\n",
    "    # drop less important features, random forest\n",
    "    self.df.drop(['ps_calc_15_bin'], axis = 1, inplace = True)\n",
    "    self.df.drop(['ps_calc_16_bin'], axis = 1, inplace = True)\n",
    "    self.df.drop(['ps_calc_17_bin'], axis = 1, inplace = True)\n",
    "    self.df.drop(['ps_calc_18_bin'], axis = 1, inplace = True)\n",
    "    self.df.drop(['ps_calc_19_bin'], axis = 1, inplace = True)\n",
    "    self.df.drop(['ps_calc_20_bin'], axis = 1, inplace = True)\n",
    "    self.df.drop(['ps_ind_10_bin'], axis = 1, inplace = True)\n",
    "    self.df.drop(['ps_ind_11_bin'], axis = 1, inplace = True)\n",
    "    self.df.drop(['ps_ind_12_bin'], axis = 1, inplace = True)\n",
    "    self.df.drop(['ps_ind_13_bin'], axis = 1, inplace = True)\n",
    "    self.df.drop(['ps_ind_14'], axis = 1, inplace = True)\n",
    "    self.df.drop(['ps_car_04_cat'], axis = 1, inplace = True)\n",
    "    self.df.drop(['ps_car_10_cat'], axis = 1, inplace = True)\n",
    "\n",
    "    #self.df['ps_car_13'] = (self.df['ps_car_13']*self.df['ps_car_13']*48400).round(0)\n",
    "    #self.df['ps_car_12'] = (self.df['ps_car_12']*self.df['ps_car_12']).round(4) * 10000\n",
    "    return\n",
    "\n",
    "  # scale the features \n",
    "  def ScaleFeatures(self):\n",
    "    scaler = StandardScaler(copy=False)\n",
    "    if self.dftype == 1:\n",
    "      scaler.fit_transform(self.df.drop(['id','target'], axis=1))\n",
    "    elif self.dftype == 2:\n",
    "      scaler.fit_transform(self.df.drop(['id'], axis=1))\n",
    "    else:\n",
    "      print (\"neither train nor test!\")\n",
    "    return\n",
    "\n",
    "  # this method pack all previous preprocessing all together and return the data frame\n",
    "  def FinalFrameforTrainning(self):\n",
    "    self.MissingData()\n",
    "    self.OneHotReplacement()\n",
    "    self.CorrMergeDrop()\n",
    "    self.ScaleFeatures()\n",
    "    #print (self.df)\n",
    "    return self.df\n"
   ]
  },
  {
   "cell_type": "code",
   "execution_count": 89,
   "metadata": {},
   "outputs": [
    {
     "name": "stdout",
     "output_type": "stream",
     "text": [
      "done with trainning set preprocessing!\n",
      "done with test set preprocessing!\n"
     ]
    }
   ],
   "source": [
    "  preprocessing = PreProcessing('../data/train.csv')\n",
    "  train_p = preprocessing.FinalFrameforTrainning()\n",
    "  print (\"done with trainning set preprocessing!\")\n",
    "  #train_p.to_csv('train_p.csv', index = False)\n",
    "  preprocessing = PreProcessing('../data/test.csv')\n",
    "  test_p = preprocessing.FinalFrameforTrainning()\n",
    "  print (\"done with test set preprocessing!\")\n",
    "  #test_p.to_csv('test_p.csv', index = False)\n",
    "  #train_p = pd.read_csv('train_p.csv')\n",
    "  #test_p = pd.read_csv('test_p.csv')"
   ]
  },
  {
   "cell_type": "code",
   "execution_count": 90,
   "metadata": {},
   "outputs": [
    {
     "name": "stdout",
     "output_type": "stream",
     "text": [
      "   id  target  ps_ind_01  ps_ind_03  ps_ind_06_bin  ps_ind_07_bin  \\\n",
      "0   7       0          2          5              0              1   \n",
      "1   9       0          1          7              0              0   \n",
      "2  13       0          5          9              0              0   \n",
      "3  16       0          0          2              1              0   \n",
      "4  17       0          0          0              1              0   \n",
      "\n",
      "   ps_ind_08_bin  ps_ind_09_bin  ps_ind_15  ps_ind_16_bin      ...        \\\n",
      "0              0              0         11              0      ...         \n",
      "1              1              0          3              0      ...         \n",
      "2              1              0         12              1      ...         \n",
      "3              0              0          8              1      ...         \n",
      "4              0              0          9              1      ...         \n",
      "\n",
      "   ps_car_07_cat_1.0  ps_car_09_cat_0.0  ps_car_09_cat_1.0  ps_car_09_cat_2.0  \\\n",
      "0                  1                  1                  0                  0   \n",
      "1                  1                  0                  0                  1   \n",
      "2                  1                  0                  0                  1   \n",
      "3                  1                  0                  0                  0   \n",
      "4                  1                  0                  0                  1   \n",
      "\n",
      "   ps_car_09_cat_3.0  ps_car_09_cat_4.0  ps_car_11_0.0  ps_car_11_1.0  \\\n",
      "0                  0                  0              0              0   \n",
      "1                  0                  0              0              0   \n",
      "2                  0                  0              0              1   \n",
      "3                  1                  0              0              1   \n",
      "4                  0                  0              0              0   \n",
      "\n",
      "   ps_car_11_2.0  ps_car_11_3.0  \n",
      "0              1              0  \n",
      "1              0              1  \n",
      "2              0              0  \n",
      "3              0              0  \n",
      "4              0              1  \n",
      "\n",
      "[5 rows x 78 columns]\n",
      "(595212, 78)\n",
      "(892816, 77)\n"
     ]
    }
   ],
   "source": [
    "print(train_p.head())\n",
    "print(train_p.shape)\n",
    "print(test_p.shape)"
   ]
  },
  {
   "cell_type": "code",
   "execution_count": 91,
   "metadata": {},
   "outputs": [
    {
     "data": {
      "text/plain": [
       "'\\nrf = RandomForestClassifier(n_estimators=300, criterion=\\'gini\\', max_features=\\'auto\\', max_depth=7, min_samples_leaf=4, n_jobs=-1, random_state=0)\\nrf.fit(X_train, y_train)\\nprint(\"----- Training Done -----\")\\nysc_pred = rf.predict_proba(X_test)[:,1]\\n#print (ysc_pred)\\n#print (y_test)\\ngini = 2*roc_auc_score(y_test, ysc_pred)-1\\nprint(gini)\\n'"
      ]
     },
     "execution_count": 91,
     "metadata": {},
     "output_type": "execute_result"
    }
   ],
   "source": [
    "from sklearn.model_selection import train_test_split\n",
    "from sklearn.model_selection import KFold\n",
    "from sklearn.ensemble import RandomForestClassifier\n",
    "from sklearn.metrics import roc_auc_score\n",
    "\n",
    "'''\n",
    "X_train, X_test, y_train, y_test = train_test_split(\n",
    "                                                    train_p.drop(['id', 'target'],axis=1),\n",
    "                                                    train_p.target,\n",
    "                                                    train_size=0.7,\n",
    "                                                    test_size=0.3,\n",
    "                                                    random_state=0\n",
    "                                                   )\n",
    "'''\n",
    "'''\n",
    "kf = KFold(n_splits=5)\n",
    "#kf.get_n_splits(train_p.loc[train_p['target'] == 0])\n",
    "train_p_sg = train_p.loc[train_p['target'] == 1]\n",
    "#print(train_p_sg)\n",
    "train_p_bg = train_p.loc[train_p['target'] == 0]\n",
    "#train_p_bg.head(200)\n",
    "kfres = next(kf.split(train_p_bg))\n",
    "#print(train_p_bg.iloc[kfres[0]])\n",
    "print(train_p_sg.shape)\n",
    "print(train_p_bg.shape)\n",
    "print(train_p_bg.iloc[kfres[1]].shape)\n",
    "\n",
    "dfbalanced = pd.concat([train_p_sg, train_p_bg.iloc[kfres[1]]])\n",
    "from sklearn.utils import shuffle\n",
    "dfbalanced = shuffle(dfbalanced)\n",
    "dfbalanced.head(100)\n",
    "\n",
    "X_train = dfbalanced.drop(['id', 'target'],axis=1)\n",
    "y_train = dfbalanced.target\n",
    "'''\n",
    "'''\n",
    "rf = RandomForestClassifier(n_estimators=300, criterion='gini', max_features='auto', max_depth=7, min_samples_leaf=4, n_jobs=-1, random_state=0)\n",
    "rf.fit(X_train, y_train)\n",
    "print(\"----- Training Done -----\")\n",
    "ysc_pred = rf.predict_proba(X_test)[:,1]\n",
    "#print (ysc_pred)\n",
    "#print (y_test)\n",
    "gini = 2*roc_auc_score(y_test, ysc_pred)-1\n",
    "print(gini)\n",
    "'''"
   ]
  },
  {
   "cell_type": "code",
   "execution_count": 92,
   "metadata": {},
   "outputs": [
    {
     "data": {
      "text/html": [
       "<script>requirejs.config({paths: { 'plotly': ['https://cdn.plot.ly/plotly-latest.min']},});if(!window.Plotly) {{require(['plotly'],function(plotly) {window.Plotly=plotly;});}}</script>"
      ],
      "text/vnd.plotly.v1+html": [
       "<script>requirejs.config({paths: { 'plotly': ['https://cdn.plot.ly/plotly-latest.min']},});if(!window.Plotly) {{require(['plotly'],function(plotly) {window.Plotly=plotly;});}}</script>"
      ]
     },
     "metadata": {},
     "output_type": "display_data"
    }
   ],
   "source": [
    "import seaborn as sns\n",
    "import matplotlib.pyplot as plt\n",
    "%matplotlib inline\n",
    "import plotly.offline as py\n",
    "py.init_notebook_mode(connected=True)\n",
    "import plotly.graph_objs as go\n",
    "import plotly.tools as tls"
   ]
  },
  {
   "cell_type": "code",
   "execution_count": 93,
   "metadata": {},
   "outputs": [
    {
     "data": {
      "application/vnd.plotly.v1+json": {
       "data": [
        {
         "marker": {
          "color": [
           0.0007099083482175061,
           0.00082125078017326,
           0.0009749487080880893,
           0.0009792720743970335,
           0.0010547855043935089,
           0.001116367377457185,
           0.0011503994316695053,
           0.0012328792289052622,
           0.0014820949483540533,
           0.0015619966035782106,
           0.0016886598151058963,
           0.001764812669743547,
           0.0017849491802367405,
           0.0017971933268149487,
           0.0019576380441527993,
           0.002130014050834076,
           0.002244556527660917,
           0.0022548406776413113,
           0.00230900156899539,
           0.0023628706251159187,
           0.002391858114667952,
           0.002744373334553897,
           0.0028613074504090594,
           0.003129265661475686,
           0.0031583914868987375,
           0.0032062727488481896,
           0.003210627502700034,
           0.003921746185027254,
           0.004106787131799381,
           0.004156627987438847,
           0.0045876033751903085,
           0.004596464165498566,
           0.0047860830101932655,
           0.005206777887480394,
           0.0052929644310067,
           0.006199364026840704,
           0.0069257090361740286,
           0.007658998898418103,
           0.008005478287841249,
           0.008187291438931328,
           0.008263372019928593,
           0.008309904018564464,
           0.008763475094229074,
           0.008874003717515214,
           0.008945150612513114,
           0.009088072465828202,
           0.009498719598380782,
           0.00984946360080976,
           0.009969755746265465,
           0.010024591545509862,
           0.01294800408664845,
           0.013432034794968557,
           0.013608194068366096,
           0.013958781944986266,
           0.014020088525571829,
           0.014488598936717445,
           0.015719867772849772,
           0.015813436454887215,
           0.016007671185805875,
           0.019588056382265916,
           0.02015488471541431,
           0.02195733173256802,
           0.023136489856384765,
           0.023170765903156202,
           0.025828816872149007,
           0.026573234543658127,
           0.027027391004628108,
           0.027688041426645153,
           0.028450605988358416,
           0.03544417236876847,
           0.04175400054193886,
           0.04246350065258387,
           0.04697769586964577,
           0.05723430659045856,
           0.06745969491091258,
           0.1177953927971889
          ],
          "colorscale": "Viridis",
          "reversescale": true
         },
         "name": "Random Forest Feature importance",
         "orientation": "h",
         "type": "bar",
         "x": [
          0.0007099083482175061,
          0.00082125078017326,
          0.0009749487080880893,
          0.0009792720743970335,
          0.0010547855043935089,
          0.001116367377457185,
          0.0011503994316695053,
          0.0012328792289052622,
          0.0014820949483540533,
          0.0015619966035782106,
          0.0016886598151058963,
          0.001764812669743547,
          0.0017849491802367405,
          0.0017971933268149487,
          0.0019576380441527993,
          0.002130014050834076,
          0.002244556527660917,
          0.0022548406776413113,
          0.00230900156899539,
          0.0023628706251159187,
          0.002391858114667952,
          0.002744373334553897,
          0.0028613074504090594,
          0.003129265661475686,
          0.0031583914868987375,
          0.0032062727488481896,
          0.003210627502700034,
          0.003921746185027254,
          0.004106787131799381,
          0.004156627987438847,
          0.0045876033751903085,
          0.004596464165498566,
          0.0047860830101932655,
          0.005206777887480394,
          0.0052929644310067,
          0.006199364026840704,
          0.0069257090361740286,
          0.007658998898418103,
          0.008005478287841249,
          0.008187291438931328,
          0.008263372019928593,
          0.008309904018564464,
          0.008763475094229074,
          0.008874003717515214,
          0.008945150612513114,
          0.009088072465828202,
          0.009498719598380782,
          0.00984946360080976,
          0.009969755746265465,
          0.010024591545509862,
          0.01294800408664845,
          0.013432034794968557,
          0.013608194068366096,
          0.013958781944986266,
          0.014020088525571829,
          0.014488598936717445,
          0.015719867772849772,
          0.015813436454887215,
          0.016007671185805875,
          0.019588056382265916,
          0.02015488471541431,
          0.02195733173256802,
          0.023136489856384765,
          0.023170765903156202,
          0.025828816872149007,
          0.026573234543658127,
          0.027027391004628108,
          0.027688041426645153,
          0.028450605988358416,
          0.03544417236876847,
          0.04175400054193886,
          0.04246350065258387,
          0.04697769586964577,
          0.05723430659045856,
          0.06745969491091258,
          0.1177953927971889
         ],
         "y": [
          "ps_car_01_cat_1.0",
          "ps_car_01_cat_3.0",
          "ps_car_01_cat_5.0",
          "ps_car_01_cat_2.0",
          "ps_car_01_cat_0.0",
          "ps_car_01_cat_10.0",
          "ps_ind_02_cat_3.0",
          "ps_car_09_cat_3.0",
          "ps_car_01_cat_8.0",
          "ps_car_01_cat_6.0",
          "ps_ind_05_cat_3.0",
          "ps_ind_05_cat_5.0",
          "ps_ind_02_cat_4.0",
          "ps_car_09_cat_4.0",
          "ps_car_11_1.0",
          "ps_car_01_cat_4.0",
          "ps_ind_02_cat_2.0",
          "ps_ind_18_bin",
          "ps_car_11_3.0",
          "ps_car_11_2.0",
          "ps_ind_02_cat_1.0",
          "ps_car_09_cat_2.0",
          "ps_car_03_cat_0.0",
          "ps_ind_04_cat_0.0",
          "ps_car_05_cat_0.0",
          "ps_ind_04_cat_1.0",
          "ps_ind_05_cat_1.0",
          "ps_car_11_0.0",
          "ps_car_05_cat_1.0",
          "ps_ind_09_bin",
          "ps_car_09_cat_0.0",
          "ps_car_01_cat_11.0",
          "ps_ind_05_cat_4.0",
          "ps_ind_08_bin",
          "ps_car_01_cat_9.0",
          "ps_car_08_cat",
          "ps_car_07_cat_0.0",
          "ps_calc_04",
          "ps_ind_05_cat_2.0",
          "ps_calc_12",
          "ps_calc_09",
          "ps_calc_06",
          "ps_calc_07",
          "ps_car_01_cat_7.0",
          "ps_calc_02",
          "ps_calc_08",
          "ps_calc_13",
          "ps_calc_03",
          "ps_calc_01",
          "ps_calc_05",
          "ps_calc_14",
          "ps_car_09_cat_1.0",
          "ps_calc_11",
          "ps_ind_05_cat_6.0",
          "ps_car_11_cat",
          "ps_car_02_cat_1.0",
          "ps_ind_01",
          "ps_calc_10",
          "ps_car_06_cat",
          "ps_car_02_cat_0.0",
          "ps_reg_01",
          "ps_car_03_cat_1.0",
          "ps_ind_16_bin",
          "ps_ind_15",
          "ps_ind_06_bin",
          "ps_car_07_cat_1.0",
          "ps_car_15",
          "ps_car_14",
          "ps_ind_07_bin",
          "ps_ind_03",
          "ps_reg_03",
          "ps_car_12",
          "ps_reg_02",
          "ps_ind_17_bin",
          "ps_ind_05_cat_0.0",
          "ps_car_13"
         ]
        }
       ],
       "layout": {
        "height": 2000,
        "title": "Feature importances, RandomForest",
        "width": 900,
        "yaxis": {
         "showgrid": false,
         "showline": false,
         "showticklabels": true
        }
       }
      },
      "text/html": [
       "<div id=\"0b2ae3f0-7e48-4862-b379-24ac9abd4e0b\" style=\"height: 2000px; width: 900px;\" class=\"plotly-graph-div\"></div><script type=\"text/javascript\">require([\"plotly\"], function(Plotly) { window.PLOTLYENV=window.PLOTLYENV || {};window.PLOTLYENV.BASE_URL=\"https://plot.ly\";Plotly.newPlot(\"0b2ae3f0-7e48-4862-b379-24ac9abd4e0b\", [{\"type\": \"bar\", \"x\": [0.0007099083482175061, 0.00082125078017326, 0.0009749487080880893, 0.0009792720743970335, 0.0010547855043935089, 0.001116367377457185, 0.0011503994316695053, 0.0012328792289052622, 0.0014820949483540533, 0.0015619966035782106, 0.0016886598151058963, 0.001764812669743547, 0.0017849491802367405, 0.0017971933268149487, 0.0019576380441527993, 0.002130014050834076, 0.002244556527660917, 0.0022548406776413113, 0.00230900156899539, 0.0023628706251159187, 0.002391858114667952, 0.002744373334553897, 0.0028613074504090594, 0.003129265661475686, 0.0031583914868987375, 0.0032062727488481896, 0.003210627502700034, 0.003921746185027254, 0.004106787131799381, 0.004156627987438847, 0.0045876033751903085, 0.004596464165498566, 0.0047860830101932655, 0.005206777887480394, 0.0052929644310067, 0.006199364026840704, 0.0069257090361740286, 0.007658998898418103, 0.008005478287841249, 0.008187291438931328, 0.008263372019928593, 0.008309904018564464, 0.008763475094229074, 0.008874003717515214, 0.008945150612513114, 0.009088072465828202, 0.009498719598380782, 0.00984946360080976, 0.009969755746265465, 0.010024591545509862, 0.01294800408664845, 0.013432034794968557, 0.013608194068366096, 0.013958781944986266, 0.014020088525571829, 0.014488598936717445, 0.015719867772849772, 0.015813436454887215, 0.016007671185805875, 0.019588056382265916, 0.02015488471541431, 0.02195733173256802, 0.023136489856384765, 0.023170765903156202, 0.025828816872149007, 0.026573234543658127, 0.027027391004628108, 0.027688041426645153, 0.028450605988358416, 0.03544417236876847, 0.04175400054193886, 0.04246350065258387, 0.04697769586964577, 0.05723430659045856, 0.06745969491091258, 0.1177953927971889], \"y\": [\"ps_car_01_cat_1.0\", \"ps_car_01_cat_3.0\", \"ps_car_01_cat_5.0\", \"ps_car_01_cat_2.0\", \"ps_car_01_cat_0.0\", \"ps_car_01_cat_10.0\", \"ps_ind_02_cat_3.0\", \"ps_car_09_cat_3.0\", \"ps_car_01_cat_8.0\", \"ps_car_01_cat_6.0\", \"ps_ind_05_cat_3.0\", \"ps_ind_05_cat_5.0\", \"ps_ind_02_cat_4.0\", \"ps_car_09_cat_4.0\", \"ps_car_11_1.0\", \"ps_car_01_cat_4.0\", \"ps_ind_02_cat_2.0\", \"ps_ind_18_bin\", \"ps_car_11_3.0\", \"ps_car_11_2.0\", \"ps_ind_02_cat_1.0\", \"ps_car_09_cat_2.0\", \"ps_car_03_cat_0.0\", \"ps_ind_04_cat_0.0\", \"ps_car_05_cat_0.0\", \"ps_ind_04_cat_1.0\", \"ps_ind_05_cat_1.0\", \"ps_car_11_0.0\", \"ps_car_05_cat_1.0\", \"ps_ind_09_bin\", \"ps_car_09_cat_0.0\", \"ps_car_01_cat_11.0\", \"ps_ind_05_cat_4.0\", \"ps_ind_08_bin\", \"ps_car_01_cat_9.0\", \"ps_car_08_cat\", \"ps_car_07_cat_0.0\", \"ps_calc_04\", \"ps_ind_05_cat_2.0\", \"ps_calc_12\", \"ps_calc_09\", \"ps_calc_06\", \"ps_calc_07\", \"ps_car_01_cat_7.0\", \"ps_calc_02\", \"ps_calc_08\", \"ps_calc_13\", \"ps_calc_03\", \"ps_calc_01\", \"ps_calc_05\", \"ps_calc_14\", \"ps_car_09_cat_1.0\", \"ps_calc_11\", \"ps_ind_05_cat_6.0\", \"ps_car_11_cat\", \"ps_car_02_cat_1.0\", \"ps_ind_01\", \"ps_calc_10\", \"ps_car_06_cat\", \"ps_car_02_cat_0.0\", \"ps_reg_01\", \"ps_car_03_cat_1.0\", \"ps_ind_16_bin\", \"ps_ind_15\", \"ps_ind_06_bin\", \"ps_car_07_cat_1.0\", \"ps_car_15\", \"ps_car_14\", \"ps_ind_07_bin\", \"ps_ind_03\", \"ps_reg_03\", \"ps_car_12\", \"ps_reg_02\", \"ps_ind_17_bin\", \"ps_ind_05_cat_0.0\", \"ps_car_13\"], \"marker\": {\"color\": [0.0007099083482175061, 0.00082125078017326, 0.0009749487080880893, 0.0009792720743970335, 0.0010547855043935089, 0.001116367377457185, 0.0011503994316695053, 0.0012328792289052622, 0.0014820949483540533, 0.0015619966035782106, 0.0016886598151058963, 0.001764812669743547, 0.0017849491802367405, 0.0017971933268149487, 0.0019576380441527993, 0.002130014050834076, 0.002244556527660917, 0.0022548406776413113, 0.00230900156899539, 0.0023628706251159187, 0.002391858114667952, 0.002744373334553897, 0.0028613074504090594, 0.003129265661475686, 0.0031583914868987375, 0.0032062727488481896, 0.003210627502700034, 0.003921746185027254, 0.004106787131799381, 0.004156627987438847, 0.0045876033751903085, 0.004596464165498566, 0.0047860830101932655, 0.005206777887480394, 0.0052929644310067, 0.006199364026840704, 0.0069257090361740286, 0.007658998898418103, 0.008005478287841249, 0.008187291438931328, 0.008263372019928593, 0.008309904018564464, 0.008763475094229074, 0.008874003717515214, 0.008945150612513114, 0.009088072465828202, 0.009498719598380782, 0.00984946360080976, 0.009969755746265465, 0.010024591545509862, 0.01294800408664845, 0.013432034794968557, 0.013608194068366096, 0.013958781944986266, 0.014020088525571829, 0.014488598936717445, 0.015719867772849772, 0.015813436454887215, 0.016007671185805875, 0.019588056382265916, 0.02015488471541431, 0.02195733173256802, 0.023136489856384765, 0.023170765903156202, 0.025828816872149007, 0.026573234543658127, 0.027027391004628108, 0.027688041426645153, 0.028450605988358416, 0.03544417236876847, 0.04175400054193886, 0.04246350065258387, 0.04697769586964577, 0.05723430659045856, 0.06745969491091258, 0.1177953927971889], \"colorscale\": \"Viridis\", \"reversescale\": true}, \"name\": \"Random Forest Feature importance\", \"orientation\": \"h\"}], {\"title\": \"Feature importances, RandomForest\", \"width\": 900, \"height\": 2000, \"yaxis\": {\"showgrid\": false, \"showline\": false, \"showticklabels\": true}}, {\"showLink\": true, \"linkText\": \"Export to plot.ly\"})});</script>"
      ],
      "text/vnd.plotly.v1+html": [
       "<div id=\"0b2ae3f0-7e48-4862-b379-24ac9abd4e0b\" style=\"height: 2000px; width: 900px;\" class=\"plotly-graph-div\"></div><script type=\"text/javascript\">require([\"plotly\"], function(Plotly) { window.PLOTLYENV=window.PLOTLYENV || {};window.PLOTLYENV.BASE_URL=\"https://plot.ly\";Plotly.newPlot(\"0b2ae3f0-7e48-4862-b379-24ac9abd4e0b\", [{\"type\": \"bar\", \"x\": [0.0007099083482175061, 0.00082125078017326, 0.0009749487080880893, 0.0009792720743970335, 0.0010547855043935089, 0.001116367377457185, 0.0011503994316695053, 0.0012328792289052622, 0.0014820949483540533, 0.0015619966035782106, 0.0016886598151058963, 0.001764812669743547, 0.0017849491802367405, 0.0017971933268149487, 0.0019576380441527993, 0.002130014050834076, 0.002244556527660917, 0.0022548406776413113, 0.00230900156899539, 0.0023628706251159187, 0.002391858114667952, 0.002744373334553897, 0.0028613074504090594, 0.003129265661475686, 0.0031583914868987375, 0.0032062727488481896, 0.003210627502700034, 0.003921746185027254, 0.004106787131799381, 0.004156627987438847, 0.0045876033751903085, 0.004596464165498566, 0.0047860830101932655, 0.005206777887480394, 0.0052929644310067, 0.006199364026840704, 0.0069257090361740286, 0.007658998898418103, 0.008005478287841249, 0.008187291438931328, 0.008263372019928593, 0.008309904018564464, 0.008763475094229074, 0.008874003717515214, 0.008945150612513114, 0.009088072465828202, 0.009498719598380782, 0.00984946360080976, 0.009969755746265465, 0.010024591545509862, 0.01294800408664845, 0.013432034794968557, 0.013608194068366096, 0.013958781944986266, 0.014020088525571829, 0.014488598936717445, 0.015719867772849772, 0.015813436454887215, 0.016007671185805875, 0.019588056382265916, 0.02015488471541431, 0.02195733173256802, 0.023136489856384765, 0.023170765903156202, 0.025828816872149007, 0.026573234543658127, 0.027027391004628108, 0.027688041426645153, 0.028450605988358416, 0.03544417236876847, 0.04175400054193886, 0.04246350065258387, 0.04697769586964577, 0.05723430659045856, 0.06745969491091258, 0.1177953927971889], \"y\": [\"ps_car_01_cat_1.0\", \"ps_car_01_cat_3.0\", \"ps_car_01_cat_5.0\", \"ps_car_01_cat_2.0\", \"ps_car_01_cat_0.0\", \"ps_car_01_cat_10.0\", \"ps_ind_02_cat_3.0\", \"ps_car_09_cat_3.0\", \"ps_car_01_cat_8.0\", \"ps_car_01_cat_6.0\", \"ps_ind_05_cat_3.0\", \"ps_ind_05_cat_5.0\", \"ps_ind_02_cat_4.0\", \"ps_car_09_cat_4.0\", \"ps_car_11_1.0\", \"ps_car_01_cat_4.0\", \"ps_ind_02_cat_2.0\", \"ps_ind_18_bin\", \"ps_car_11_3.0\", \"ps_car_11_2.0\", \"ps_ind_02_cat_1.0\", \"ps_car_09_cat_2.0\", \"ps_car_03_cat_0.0\", \"ps_ind_04_cat_0.0\", \"ps_car_05_cat_0.0\", \"ps_ind_04_cat_1.0\", \"ps_ind_05_cat_1.0\", \"ps_car_11_0.0\", \"ps_car_05_cat_1.0\", \"ps_ind_09_bin\", \"ps_car_09_cat_0.0\", \"ps_car_01_cat_11.0\", \"ps_ind_05_cat_4.0\", \"ps_ind_08_bin\", \"ps_car_01_cat_9.0\", \"ps_car_08_cat\", \"ps_car_07_cat_0.0\", \"ps_calc_04\", \"ps_ind_05_cat_2.0\", \"ps_calc_12\", \"ps_calc_09\", \"ps_calc_06\", \"ps_calc_07\", \"ps_car_01_cat_7.0\", \"ps_calc_02\", \"ps_calc_08\", \"ps_calc_13\", \"ps_calc_03\", \"ps_calc_01\", \"ps_calc_05\", \"ps_calc_14\", \"ps_car_09_cat_1.0\", \"ps_calc_11\", \"ps_ind_05_cat_6.0\", \"ps_car_11_cat\", \"ps_car_02_cat_1.0\", \"ps_ind_01\", \"ps_calc_10\", \"ps_car_06_cat\", \"ps_car_02_cat_0.0\", \"ps_reg_01\", \"ps_car_03_cat_1.0\", \"ps_ind_16_bin\", \"ps_ind_15\", \"ps_ind_06_bin\", \"ps_car_07_cat_1.0\", \"ps_car_15\", \"ps_car_14\", \"ps_ind_07_bin\", \"ps_ind_03\", \"ps_reg_03\", \"ps_car_12\", \"ps_reg_02\", \"ps_ind_17_bin\", \"ps_ind_05_cat_0.0\", \"ps_car_13\"], \"marker\": {\"color\": [0.0007099083482175061, 0.00082125078017326, 0.0009749487080880893, 0.0009792720743970335, 0.0010547855043935089, 0.001116367377457185, 0.0011503994316695053, 0.0012328792289052622, 0.0014820949483540533, 0.0015619966035782106, 0.0016886598151058963, 0.001764812669743547, 0.0017849491802367405, 0.0017971933268149487, 0.0019576380441527993, 0.002130014050834076, 0.002244556527660917, 0.0022548406776413113, 0.00230900156899539, 0.0023628706251159187, 0.002391858114667952, 0.002744373334553897, 0.0028613074504090594, 0.003129265661475686, 0.0031583914868987375, 0.0032062727488481896, 0.003210627502700034, 0.003921746185027254, 0.004106787131799381, 0.004156627987438847, 0.0045876033751903085, 0.004596464165498566, 0.0047860830101932655, 0.005206777887480394, 0.0052929644310067, 0.006199364026840704, 0.0069257090361740286, 0.007658998898418103, 0.008005478287841249, 0.008187291438931328, 0.008263372019928593, 0.008309904018564464, 0.008763475094229074, 0.008874003717515214, 0.008945150612513114, 0.009088072465828202, 0.009498719598380782, 0.00984946360080976, 0.009969755746265465, 0.010024591545509862, 0.01294800408664845, 0.013432034794968557, 0.013608194068366096, 0.013958781944986266, 0.014020088525571829, 0.014488598936717445, 0.015719867772849772, 0.015813436454887215, 0.016007671185805875, 0.019588056382265916, 0.02015488471541431, 0.02195733173256802, 0.023136489856384765, 0.023170765903156202, 0.025828816872149007, 0.026573234543658127, 0.027027391004628108, 0.027688041426645153, 0.028450605988358416, 0.03544417236876847, 0.04175400054193886, 0.04246350065258387, 0.04697769586964577, 0.05723430659045856, 0.06745969491091258, 0.1177953927971889], \"colorscale\": \"Viridis\", \"reversescale\": true}, \"name\": \"Random Forest Feature importance\", \"orientation\": \"h\"}], {\"title\": \"Feature importances, RandomForest\", \"width\": 900, \"height\": 2000, \"yaxis\": {\"showgrid\": false, \"showline\": false, \"showticklabels\": true}}, {\"showLink\": true, \"linkText\": \"Export to plot.ly\"})});</script>"
      ]
     },
     "metadata": {},
     "output_type": "display_data"
    }
   ],
   "source": [
    "features = train_p.drop(['id', 'target'],axis=1).columns.values\n",
    "x, y = (list(x) for x in zip(*sorted(zip(rf.feature_importances_, features), \n",
    "                                                            reverse = False)))\n",
    "#print(y)\n",
    "indice = 0\n",
    "for thisy in y:\n",
    "    if 'ps_car_04_cat' in thisy:\n",
    "        print(indice)\n",
    "        print(y[indice])\n",
    "        print(x[indice])\n",
    "    indice = indice+1\n",
    "\n",
    "trace2 = go.Bar(\n",
    "    x=x ,\n",
    "    y=y,\n",
    "    marker=dict(\n",
    "        color=x,\n",
    "        colorscale = 'Viridis',\n",
    "        reversescale = True\n",
    "    ),\n",
    "    name='Random Forest Feature importance',\n",
    "    orientation='h',\n",
    ")\n",
    "\n",
    "layout = dict(\n",
    "    title='Feature importances, RandomForest',\n",
    "     width = 900, height = 2000,\n",
    "    yaxis=dict(\n",
    "        showgrid=False,\n",
    "        showline=False,\n",
    "        showticklabels=True,\n",
    "#         domain=[0, 0.85],\n",
    "    ))\n",
    "\n",
    "fig1 = go.Figure(data=[trace2])\n",
    "fig1['layout'].update(layout)\n",
    "py.iplot(fig1, filename='plots')"
   ]
  },
  {
   "cell_type": "code",
   "execution_count": 132,
   "metadata": {
    "collapsed": true
   },
   "outputs": [],
   "source": [
    "from sklearn.model_selection import GridSearchCV\n",
    "from sklearn.model_selection import cross_val_score\n",
    "def rf_param_selection(nfolds):\n",
    "    sc_mod = RandomForestClassifier(n_estimators=100, criterion='gini', n_jobs=-1, random_state=0, verbose=True)\n",
    "    #nmsls = [120]\n",
    "    #mfeat = [0.3, 0.35, 0.40]\n",
    "    #mdeps = [14]\n",
    "    nmsls = [110, 115, 120, 125, 130]\n",
    "    mfeat = [0.3]\n",
    "    mdeps = [14]\n",
    "    #nmsls = [120]\n",
    "    #mfeat = [0.3]\n",
    "    #mdeps = [12, 13, 14, 15, 16]\n",
    "    #nmsls = [120]\n",
    "    #mfeat = [0.3]\n",
    "    #mdeps = [14]\n",
    "    param_grid = {'min_samples_leaf': nmsls, 'max_features' : mfeat, 'max_depth': mdeps}\n",
    "    grid_search = GridSearchCV(sc_mod, param_grid, scoring='roc_auc', cv=nfolds, verbose=2)\n",
    "    grid_search.fit(train_p.drop(['id', 'target'],axis=1), train_p.target)\n",
    "    #print (\"CV results\")\n",
    "    #print (grid_search.cv_results_)\n",
    "    print (\"Grid Scores:\")\n",
    "    print (grid_search.grid_scores_)\n",
    "    print (\"Best parameters:\")\n",
    "    print (grid_search.best_params_)\n",
    "    return grid_search.cv_results_"
   ]
  },
  {
   "cell_type": "code",
   "execution_count": 133,
   "metadata": {},
   "outputs": [
    {
     "name": "stdout",
     "output_type": "stream",
     "text": [
      "Fitting 3 folds for each of 5 candidates, totalling 15 fits\n",
      "[CV] max_depth=14, max_features=0.3, min_samples_leaf=110 ............\n"
     ]
    },
    {
     "name": "stderr",
     "output_type": "stream",
     "text": [
      "[Parallel(n_jobs=-1)]: Done  34 tasks      | elapsed:   30.8s\n",
      "[Parallel(n_jobs=-1)]: Done 100 out of 100 | elapsed:  1.3min finished\n",
      "[Parallel(n_jobs=8)]: Done  34 tasks      | elapsed:    0.3s\n",
      "[Parallel(n_jobs=8)]: Done 100 out of 100 | elapsed:    0.9s finished\n",
      "[Parallel(n_jobs=8)]: Done  34 tasks      | elapsed:    0.6s\n",
      "[Parallel(n_jobs=8)]: Done 100 out of 100 | elapsed:    1.7s finished\n"
     ]
    },
    {
     "name": "stdout",
     "output_type": "stream",
     "text": [
      "[CV]  max_depth=14, max_features=0.3, min_samples_leaf=110, total= 1.3min\n",
      "[CV] max_depth=14, max_features=0.3, min_samples_leaf=110 ............\n"
     ]
    },
    {
     "name": "stderr",
     "output_type": "stream",
     "text": [
      "[Parallel(n_jobs=1)]: Done   1 out of   1 | elapsed:  1.4min remaining:    0.0s\n",
      "[Parallel(n_jobs=-1)]: Done  34 tasks      | elapsed:   34.6s\n",
      "[Parallel(n_jobs=-1)]: Done 100 out of 100 | elapsed:  1.5min finished\n",
      "[Parallel(n_jobs=8)]: Done  34 tasks      | elapsed:    0.3s\n",
      "[Parallel(n_jobs=8)]: Done 100 out of 100 | elapsed:    1.0s finished\n",
      "[Parallel(n_jobs=8)]: Done  34 tasks      | elapsed:    0.8s\n",
      "[Parallel(n_jobs=8)]: Done 100 out of 100 | elapsed:    2.2s finished\n"
     ]
    },
    {
     "name": "stdout",
     "output_type": "stream",
     "text": [
      "[CV]  max_depth=14, max_features=0.3, min_samples_leaf=110, total= 1.5min\n",
      "[CV] max_depth=14, max_features=0.3, min_samples_leaf=110 ............\n"
     ]
    },
    {
     "name": "stderr",
     "output_type": "stream",
     "text": [
      "[Parallel(n_jobs=-1)]: Done  34 tasks      | elapsed:   35.8s\n",
      "[Parallel(n_jobs=-1)]: Done 100 out of 100 | elapsed:  1.4min finished\n",
      "[Parallel(n_jobs=8)]: Done  34 tasks      | elapsed:    0.3s\n",
      "[Parallel(n_jobs=8)]: Done 100 out of 100 | elapsed:    0.8s finished\n",
      "[Parallel(n_jobs=8)]: Done  34 tasks      | elapsed:    0.6s\n",
      "[Parallel(n_jobs=8)]: Done 100 out of 100 | elapsed:    1.6s finished\n"
     ]
    },
    {
     "name": "stdout",
     "output_type": "stream",
     "text": [
      "[CV]  max_depth=14, max_features=0.3, min_samples_leaf=110, total= 1.5min\n",
      "[CV] max_depth=14, max_features=0.3, min_samples_leaf=115 ............\n"
     ]
    },
    {
     "name": "stderr",
     "output_type": "stream",
     "text": [
      "[Parallel(n_jobs=-1)]: Done  34 tasks      | elapsed:   31.4s\n",
      "[Parallel(n_jobs=-1)]: Done 100 out of 100 | elapsed:  1.4min finished\n",
      "[Parallel(n_jobs=8)]: Done  34 tasks      | elapsed:    0.3s\n",
      "[Parallel(n_jobs=8)]: Done 100 out of 100 | elapsed:    0.9s finished\n",
      "[Parallel(n_jobs=8)]: Done  34 tasks      | elapsed:    0.6s\n",
      "[Parallel(n_jobs=8)]: Done 100 out of 100 | elapsed:    1.8s finished\n"
     ]
    },
    {
     "name": "stdout",
     "output_type": "stream",
     "text": [
      "[CV]  max_depth=14, max_features=0.3, min_samples_leaf=115, total= 1.4min\n",
      "[CV] max_depth=14, max_features=0.3, min_samples_leaf=115 ............\n"
     ]
    },
    {
     "name": "stderr",
     "output_type": "stream",
     "text": [
      "[Parallel(n_jobs=-1)]: Done  34 tasks      | elapsed:   34.3s\n",
      "[Parallel(n_jobs=-1)]: Done 100 out of 100 | elapsed:  1.4min finished\n",
      "[Parallel(n_jobs=8)]: Done  34 tasks      | elapsed:    0.3s\n",
      "[Parallel(n_jobs=8)]: Done 100 out of 100 | elapsed:    0.7s finished\n",
      "[Parallel(n_jobs=8)]: Done  34 tasks      | elapsed:    0.5s\n",
      "[Parallel(n_jobs=8)]: Done 100 out of 100 | elapsed:    1.5s finished\n"
     ]
    },
    {
     "name": "stdout",
     "output_type": "stream",
     "text": [
      "[CV]  max_depth=14, max_features=0.3, min_samples_leaf=115, total= 1.4min\n",
      "[CV] max_depth=14, max_features=0.3, min_samples_leaf=115 ............\n"
     ]
    },
    {
     "name": "stderr",
     "output_type": "stream",
     "text": [
      "[Parallel(n_jobs=-1)]: Done  34 tasks      | elapsed:   30.6s\n",
      "[Parallel(n_jobs=-1)]: Done 100 out of 100 | elapsed:  1.4min finished\n",
      "[Parallel(n_jobs=8)]: Done  34 tasks      | elapsed:    0.4s\n",
      "[Parallel(n_jobs=8)]: Done 100 out of 100 | elapsed:    1.1s finished\n",
      "[Parallel(n_jobs=8)]: Done  34 tasks      | elapsed:    0.7s\n",
      "[Parallel(n_jobs=8)]: Done 100 out of 100 | elapsed:    2.0s finished\n"
     ]
    },
    {
     "name": "stdout",
     "output_type": "stream",
     "text": [
      "[CV]  max_depth=14, max_features=0.3, min_samples_leaf=115, total= 1.4min\n",
      "[CV] max_depth=14, max_features=0.3, min_samples_leaf=120 ............\n"
     ]
    },
    {
     "name": "stderr",
     "output_type": "stream",
     "text": [
      "[Parallel(n_jobs=-1)]: Done  34 tasks      | elapsed:   34.7s\n",
      "[Parallel(n_jobs=-1)]: Done 100 out of 100 | elapsed:  1.4min finished\n",
      "[Parallel(n_jobs=8)]: Done  34 tasks      | elapsed:    0.3s\n",
      "[Parallel(n_jobs=8)]: Done 100 out of 100 | elapsed:    0.8s finished\n",
      "[Parallel(n_jobs=8)]: Done  34 tasks      | elapsed:    0.5s\n",
      "[Parallel(n_jobs=8)]: Done 100 out of 100 | elapsed:    1.6s finished\n"
     ]
    },
    {
     "name": "stdout",
     "output_type": "stream",
     "text": [
      "[CV]  max_depth=14, max_features=0.3, min_samples_leaf=120, total= 1.4min\n",
      "[CV] max_depth=14, max_features=0.3, min_samples_leaf=120 ............\n"
     ]
    },
    {
     "name": "stderr",
     "output_type": "stream",
     "text": [
      "[Parallel(n_jobs=-1)]: Done  34 tasks      | elapsed:   31.1s\n",
      "[Parallel(n_jobs=-1)]: Done 100 out of 100 | elapsed:  1.4min finished\n",
      "[Parallel(n_jobs=8)]: Done  34 tasks      | elapsed:    0.3s\n",
      "[Parallel(n_jobs=8)]: Done 100 out of 100 | elapsed:    0.8s finished\n",
      "[Parallel(n_jobs=8)]: Done  34 tasks      | elapsed:    0.6s\n",
      "[Parallel(n_jobs=8)]: Done 100 out of 100 | elapsed:    1.6s finished\n"
     ]
    },
    {
     "name": "stdout",
     "output_type": "stream",
     "text": [
      "[CV]  max_depth=14, max_features=0.3, min_samples_leaf=120, total= 1.4min\n",
      "[CV] max_depth=14, max_features=0.3, min_samples_leaf=120 ............\n"
     ]
    },
    {
     "name": "stderr",
     "output_type": "stream",
     "text": [
      "[Parallel(n_jobs=-1)]: Done  34 tasks      | elapsed:   34.9s\n",
      "[Parallel(n_jobs=-1)]: Done 100 out of 100 | elapsed:  1.5min finished\n",
      "[Parallel(n_jobs=8)]: Done  34 tasks      | elapsed:    0.3s\n",
      "[Parallel(n_jobs=8)]: Done 100 out of 100 | elapsed:    0.8s finished\n",
      "[Parallel(n_jobs=8)]: Done  34 tasks      | elapsed:    0.8s\n",
      "[Parallel(n_jobs=8)]: Done 100 out of 100 | elapsed:    2.0s finished\n"
     ]
    },
    {
     "name": "stdout",
     "output_type": "stream",
     "text": [
      "[CV]  max_depth=14, max_features=0.3, min_samples_leaf=120, total= 1.5min\n",
      "[CV] max_depth=14, max_features=0.3, min_samples_leaf=125 ............\n"
     ]
    },
    {
     "name": "stderr",
     "output_type": "stream",
     "text": [
      "[Parallel(n_jobs=-1)]: Done  34 tasks      | elapsed:   33.8s\n",
      "[Parallel(n_jobs=-1)]: Done 100 out of 100 | elapsed:  1.4min finished\n",
      "[Parallel(n_jobs=8)]: Done  34 tasks      | elapsed:    0.3s\n",
      "[Parallel(n_jobs=8)]: Done 100 out of 100 | elapsed:    0.8s finished\n",
      "[Parallel(n_jobs=8)]: Done  34 tasks      | elapsed:    0.6s\n",
      "[Parallel(n_jobs=8)]: Done 100 out of 100 | elapsed:    1.6s finished\n"
     ]
    },
    {
     "name": "stdout",
     "output_type": "stream",
     "text": [
      "[CV]  max_depth=14, max_features=0.3, min_samples_leaf=125, total= 1.4min\n",
      "[CV] max_depth=14, max_features=0.3, min_samples_leaf=125 ............\n"
     ]
    },
    {
     "name": "stderr",
     "output_type": "stream",
     "text": [
      "[Parallel(n_jobs=-1)]: Done  34 tasks      | elapsed:   30.6s\n",
      "[Parallel(n_jobs=-1)]: Done 100 out of 100 | elapsed:  1.3min finished\n",
      "[Parallel(n_jobs=8)]: Done  34 tasks      | elapsed:    0.3s\n",
      "[Parallel(n_jobs=8)]: Done 100 out of 100 | elapsed:    0.7s finished\n",
      "[Parallel(n_jobs=8)]: Done  34 tasks      | elapsed:    0.5s\n",
      "[Parallel(n_jobs=8)]: Done 100 out of 100 | elapsed:    1.5s finished\n"
     ]
    },
    {
     "name": "stdout",
     "output_type": "stream",
     "text": [
      "[CV]  max_depth=14, max_features=0.3, min_samples_leaf=125, total= 1.3min\n",
      "[CV] max_depth=14, max_features=0.3, min_samples_leaf=125 ............\n"
     ]
    },
    {
     "name": "stderr",
     "output_type": "stream",
     "text": [
      "[Parallel(n_jobs=-1)]: Done  34 tasks      | elapsed:   30.0s\n",
      "[Parallel(n_jobs=-1)]: Done 100 out of 100 | elapsed:  1.3min finished\n",
      "[Parallel(n_jobs=8)]: Done  34 tasks      | elapsed:    0.3s\n",
      "[Parallel(n_jobs=8)]: Done 100 out of 100 | elapsed:    0.8s finished\n",
      "[Parallel(n_jobs=8)]: Done  34 tasks      | elapsed:    0.6s\n",
      "[Parallel(n_jobs=8)]: Done 100 out of 100 | elapsed:    1.8s finished\n"
     ]
    },
    {
     "name": "stdout",
     "output_type": "stream",
     "text": [
      "[CV]  max_depth=14, max_features=0.3, min_samples_leaf=125, total= 1.3min\n",
      "[CV] max_depth=14, max_features=0.3, min_samples_leaf=130 ............\n"
     ]
    },
    {
     "name": "stderr",
     "output_type": "stream",
     "text": [
      "[Parallel(n_jobs=-1)]: Done  34 tasks      | elapsed:   31.4s\n",
      "[Parallel(n_jobs=-1)]: Done 100 out of 100 | elapsed:  1.3min finished\n",
      "[Parallel(n_jobs=8)]: Done  34 tasks      | elapsed:    0.3s\n",
      "[Parallel(n_jobs=8)]: Done 100 out of 100 | elapsed:    0.8s finished\n",
      "[Parallel(n_jobs=8)]: Done  34 tasks      | elapsed:    0.6s\n",
      "[Parallel(n_jobs=8)]: Done 100 out of 100 | elapsed:    1.5s finished\n"
     ]
    },
    {
     "name": "stdout",
     "output_type": "stream",
     "text": [
      "[CV]  max_depth=14, max_features=0.3, min_samples_leaf=130, total= 1.3min\n",
      "[CV] max_depth=14, max_features=0.3, min_samples_leaf=130 ............\n"
     ]
    },
    {
     "name": "stderr",
     "output_type": "stream",
     "text": [
      "[Parallel(n_jobs=-1)]: Done  34 tasks      | elapsed:   30.9s\n",
      "[Parallel(n_jobs=-1)]: Done 100 out of 100 | elapsed:  1.3min finished\n",
      "[Parallel(n_jobs=8)]: Done  34 tasks      | elapsed:    0.3s\n",
      "[Parallel(n_jobs=8)]: Done 100 out of 100 | elapsed:    0.7s finished\n",
      "[Parallel(n_jobs=8)]: Done  34 tasks      | elapsed:    0.6s\n",
      "[Parallel(n_jobs=8)]: Done 100 out of 100 | elapsed:    1.6s finished\n"
     ]
    },
    {
     "name": "stdout",
     "output_type": "stream",
     "text": [
      "[CV]  max_depth=14, max_features=0.3, min_samples_leaf=130, total= 1.3min\n",
      "[CV] max_depth=14, max_features=0.3, min_samples_leaf=130 ............\n"
     ]
    },
    {
     "name": "stderr",
     "output_type": "stream",
     "text": [
      "[Parallel(n_jobs=-1)]: Done  34 tasks      | elapsed:   30.5s\n",
      "[Parallel(n_jobs=-1)]: Done 100 out of 100 | elapsed:  1.3min finished\n",
      "[Parallel(n_jobs=8)]: Done  34 tasks      | elapsed:    0.3s\n",
      "[Parallel(n_jobs=8)]: Done 100 out of 100 | elapsed:    0.7s finished\n",
      "[Parallel(n_jobs=8)]: Done  34 tasks      | elapsed:    0.6s\n",
      "[Parallel(n_jobs=8)]: Done 100 out of 100 | elapsed:    1.5s finished\n"
     ]
    },
    {
     "name": "stdout",
     "output_type": "stream",
     "text": [
      "[CV]  max_depth=14, max_features=0.3, min_samples_leaf=130, total= 1.3min\n"
     ]
    },
    {
     "name": "stderr",
     "output_type": "stream",
     "text": [
      "[Parallel(n_jobs=1)]: Done  15 out of  15 | elapsed: 21.2min finished\n",
      "[Parallel(n_jobs=-1)]: Done  34 tasks      | elapsed:   53.0s\n"
     ]
    },
    {
     "name": "stdout",
     "output_type": "stream",
     "text": [
      "Grid Scores:\n",
      "[mean: 0.63200, std: 0.00128, params: {'max_depth': 14, 'max_features': 0.3, 'min_samples_leaf': 110}, mean: 0.63220, std: 0.00079, params: {'max_depth': 14, 'max_features': 0.3, 'min_samples_leaf': 115}, mean: 0.63301, std: 0.00183, params: {'max_depth': 14, 'max_features': 0.3, 'min_samples_leaf': 120}, mean: 0.63265, std: 0.00156, params: {'max_depth': 14, 'max_features': 0.3, 'min_samples_leaf': 125}, mean: 0.63277, std: 0.00101, params: {'max_depth': 14, 'max_features': 0.3, 'min_samples_leaf': 130}]\n",
      "Best parameters:\n",
      "{'max_depth': 14, 'max_features': 0.3, 'min_samples_leaf': 120}\n"
     ]
    },
    {
     "name": "stderr",
     "output_type": "stream",
     "text": [
      "[Parallel(n_jobs=-1)]: Done 100 out of 100 | elapsed:  2.2min finished\n",
      "/home/hua/anaconda3/lib/python3.6/site-packages/sklearn/model_selection/_search.py:761: DeprecationWarning:\n",
      "\n",
      "The grid_scores_ attribute was deprecated in version 0.18 in favor of the more elaborate cv_results_ attribute. The grid_scores_ attribute will not be available from 0.20\n",
      "\n",
      "/home/hua/anaconda3/lib/python3.6/site-packages/sklearn/utils/deprecation.py:122: FutureWarning:\n",
      "\n",
      "You are accessing a training score ('mean_train_score'), which will not be available by default any more in 0.21. If you need training scores, please set return_train_score=True\n",
      "\n",
      "/home/hua/anaconda3/lib/python3.6/site-packages/sklearn/utils/deprecation.py:122: FutureWarning:\n",
      "\n",
      "You are accessing a training score ('split0_train_score'), which will not be available by default any more in 0.21. If you need training scores, please set return_train_score=True\n",
      "\n",
      "/home/hua/anaconda3/lib/python3.6/site-packages/sklearn/utils/deprecation.py:122: FutureWarning:\n",
      "\n",
      "You are accessing a training score ('split1_train_score'), which will not be available by default any more in 0.21. If you need training scores, please set return_train_score=True\n",
      "\n",
      "/home/hua/anaconda3/lib/python3.6/site-packages/sklearn/utils/deprecation.py:122: FutureWarning:\n",
      "\n",
      "You are accessing a training score ('split2_train_score'), which will not be available by default any more in 0.21. If you need training scores, please set return_train_score=True\n",
      "\n",
      "/home/hua/anaconda3/lib/python3.6/site-packages/sklearn/utils/deprecation.py:122: FutureWarning:\n",
      "\n",
      "You are accessing a training score ('std_train_score'), which will not be available by default any more in 0.21. If you need training scores, please set return_train_score=True\n",
      "\n"
     ]
    },
    {
     "data": {
      "text/plain": [
       "{'mean_fit_time': array([ 84.49108879,  82.57688292,  84.68877657,  79.32415358,  78.85622795]),\n",
       " 'mean_score_time': array([ 1.04220144,  1.07329249,  0.91828918,  0.93705678,  1.03152744]),\n",
       " 'mean_test_score': array([ 0.63200492,  0.6322001 ,  0.63300883,  0.63265378,  0.63277014]),\n",
       " 'mean_train_score': array([ 0.7809483 ,  0.77849903,  0.7760967 ,  0.77396004,  0.77152748]),\n",
       " 'param_max_depth': masked_array(data = [14 14 14 14 14],\n",
       "              mask = [False False False False False],\n",
       "        fill_value = ?),\n",
       " 'param_max_features': masked_array(data = [0.3 0.3 0.3 0.3 0.3],\n",
       "              mask = [False False False False False],\n",
       "        fill_value = ?),\n",
       " 'param_min_samples_leaf': masked_array(data = [110 115 120 125 130],\n",
       "              mask = [False False False False False],\n",
       "        fill_value = ?),\n",
       " 'params': [{'max_depth': 14, 'max_features': 0.3, 'min_samples_leaf': 110},\n",
       "  {'max_depth': 14, 'max_features': 0.3, 'min_samples_leaf': 115},\n",
       "  {'max_depth': 14, 'max_features': 0.3, 'min_samples_leaf': 120},\n",
       "  {'max_depth': 14, 'max_features': 0.3, 'min_samples_leaf': 125},\n",
       "  {'max_depth': 14, 'max_features': 0.3, 'min_samples_leaf': 130}],\n",
       " 'rank_test_score': array([5, 4, 1, 3, 2], dtype=int32),\n",
       " 'split0_test_score': array([ 0.63174574,  0.6316789 ,  0.6332049 ,  0.63226439,  0.63286228]),\n",
       " 'split0_train_score': array([ 0.78321904,  0.77965195,  0.77812213,  0.77551766,  0.77249367]),\n",
       " 'split1_test_score': array([ 0.63368231,  0.63331584,  0.63514878,  0.63472543,  0.6339638 ]),\n",
       " 'split1_train_score': array([ 0.7771311 ,  0.77605691,  0.77625213,  0.77063889,  0.7691686 ]),\n",
       " 'split2_test_score': array([ 0.6305867 ,  0.63160557,  0.63067279,  0.63097152,  0.63148434]),\n",
       " 'split2_train_score': array([ 0.78249475,  0.77978822,  0.77391583,  0.77572357,  0.77292018]),\n",
       " 'std_fit_time': array([ 4.07844618,  0.65552197,  1.91799138,  1.76041343,  0.92826136]),\n",
       " 'std_score_time': array([ 0.09800236,  0.10771001,  0.03173298,  0.01224013,  0.06489696]),\n",
       " 'std_test_score': array([ 0.00127699,  0.00078951,  0.00183257,  0.00155706,  0.00101433]),\n",
       " 'std_train_score': array([ 0.00271532,  0.00172773,  0.00172072,  0.00234991,  0.00167704])}"
      ]
     },
     "execution_count": 133,
     "metadata": {},
     "output_type": "execute_result"
    }
   ],
   "source": [
    "rf_param_selection(3)"
   ]
  },
  {
   "cell_type": "code",
   "execution_count": 134,
   "metadata": {},
   "outputs": [
    {
     "name": "stdout",
     "output_type": "stream",
     "text": [
      "----- Training Done -----\n",
      "[[ 0.97403813  0.02596187]\n",
      " [ 0.97648011  0.02351989]\n",
      " [ 0.97070244  0.02929756]\n",
      " ..., \n",
      " [ 0.96137054  0.03862946]\n",
      " [ 0.97604022  0.02395978]\n",
      " [ 0.96907262  0.03092738]]\n"
     ]
    }
   ],
   "source": [
    "# final block, rm after tuning\n",
    "rf_final = RandomForestClassifier(n_estimators=1000, criterion='gini', max_features=0.3, max_depth=14, min_samples_leaf=120, n_jobs=-1, random_state=0)\n",
    "rf_final.fit(train_p.drop(['id', 'target'],axis=1), train_p.target)\n",
    "print(\"----- Training Done -----\")\n",
    "pred_final = rf_final.predict_proba(test_p.drop(['id'],axis=1))\n",
    "print(pred_final)"
   ]
  },
  {
   "cell_type": "code",
   "execution_count": 139,
   "metadata": {},
   "outputs": [
    {
     "data": {
      "text/html": [
       "<div>\n",
       "<style>\n",
       "    .dataframe thead tr:only-child th {\n",
       "        text-align: right;\n",
       "    }\n",
       "\n",
       "    .dataframe thead th {\n",
       "        text-align: left;\n",
       "    }\n",
       "\n",
       "    .dataframe tbody tr th {\n",
       "        vertical-align: top;\n",
       "    }\n",
       "</style>\n",
       "<table border=\"1\" class=\"dataframe\">\n",
       "  <thead>\n",
       "    <tr style=\"text-align: right;\">\n",
       "      <th></th>\n",
       "      <th>id</th>\n",
       "      <th>target</th>\n",
       "    </tr>\n",
       "  </thead>\n",
       "  <tbody>\n",
       "    <tr>\n",
       "      <th>0</th>\n",
       "      <td>0</td>\n",
       "      <td>0.025962</td>\n",
       "    </tr>\n",
       "    <tr>\n",
       "      <th>1</th>\n",
       "      <td>1</td>\n",
       "      <td>0.023520</td>\n",
       "    </tr>\n",
       "    <tr>\n",
       "      <th>2</th>\n",
       "      <td>2</td>\n",
       "      <td>0.029298</td>\n",
       "    </tr>\n",
       "    <tr>\n",
       "      <th>3</th>\n",
       "      <td>3</td>\n",
       "      <td>0.015921</td>\n",
       "    </tr>\n",
       "    <tr>\n",
       "      <th>4</th>\n",
       "      <td>4</td>\n",
       "      <td>0.037679</td>\n",
       "    </tr>\n",
       "  </tbody>\n",
       "</table>\n",
       "</div>"
      ],
      "text/plain": [
       "   id    target\n",
       "0   0  0.025962\n",
       "1   1  0.023520\n",
       "2   2  0.029298\n",
       "3   3  0.015921\n",
       "4   4  0.037679"
      ]
     },
     "execution_count": 139,
     "metadata": {},
     "output_type": "execute_result"
    }
   ],
   "source": [
    "#generate submission file\n",
    "sub = pd.DataFrame()\n",
    "sub['id'] = test_p.id\n",
    "sub['target'] = pred_final[:,1]\n",
    "sub.to_csv('this_submit.csv', index=False)\n",
    "sub.head()"
   ]
  },
  {
   "cell_type": "code",
   "execution_count": null,
   "metadata": {
    "collapsed": true
   },
   "outputs": [],
   "source": []
  }
 ],
 "metadata": {
  "kernelspec": {
   "display_name": "Python 3",
   "language": "python",
   "name": "python3"
  },
  "language_info": {
   "codemirror_mode": {
    "name": "ipython",
    "version": 3
   },
   "file_extension": ".py",
   "mimetype": "text/x-python",
   "name": "python",
   "nbconvert_exporter": "python",
   "pygments_lexer": "ipython3",
   "version": "3.6.3"
  }
 },
 "nbformat": 4,
 "nbformat_minor": 2
}
